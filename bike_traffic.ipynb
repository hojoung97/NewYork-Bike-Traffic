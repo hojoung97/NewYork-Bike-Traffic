{
 "cells": [
  {
   "cell_type": "code",
   "execution_count": 1,
   "metadata": {
    "collapsed": true
   },
   "outputs": [],
   "source": [
    "import pandas\n",
    "import matplotlib.pyplot as plt\n",
    "import numpy as np\n",
    "from sklearn.model_selection import train_test_split\n",
    "from sklearn.linear_model import LinearRegression\n",
    "from sklearn.linear_model import LogisticRegression\n",
    "from sklearn.naive_bayes import GaussianNB\n",
    "from sklearn.metrics import confusion_matrix\n",
    "import seaborn"
   ]
  },
  {
   "cell_type": "code",
   "execution_count": 2,
   "metadata": {},
   "outputs": [
    {
     "data": {
      "text/plain": [
       "\"\\nThis is a project that aims to analyze NY city bike traffic.\\nThe data set contains traffic of four major bridges:\\nBrooklyn, Manhattan, Williamsburg, and Queensboro.\\nIn addition, it also has date, temperature, and precipitation data.\\n\\nThree major questions with scenarios:\\n\\n1. If we want to install sensors on the bridge to estimate overall traffic\\nacross all the bridges with only budget to install three sensors, which\\nbridges should we install the sensors to have the best prediction of overall\\ntraffic.\\n\\n2. The city administration is cracking down on helmet laws, and wants to\\ndeploy police officers on days with high traffic to hand out citations.\\nCan they use the next day's weather forecast to predict the number of\\nbicyclists that day? --> In other words, is weather (temperature and\\nprecipitation) related to number of bicyclists.\\n\\n3. Can I use this data to predict whether it is raining based on the number\\nof bicyclists on the bridges? --> Similar to question 2 but not quite. This\\ntime we are going the other way. If we have number of bicyclist determine\\nif we can infer the weather using that data.\\n\""
      ]
     },
     "execution_count": 2,
     "metadata": {},
     "output_type": "execute_result"
    }
   ],
   "source": [
    "'''\n",
    "This is a project that aims to analyze NY city bike traffic.\n",
    "The data set contains traffic of four major bridges:\n",
    "Brooklyn, Manhattan, Williamsburg, and Queensboro.\n",
    "In addition, it also has date, temperature, and precipitation data.\n",
    "\n",
    "Three major questions with scenarios:\n",
    "\n",
    "1. If we want to install sensors on the bridge to estimate overall traffic\n",
    "across all the bridges with only budget to install three sensors, which\n",
    "bridges should we install the sensors to have the best prediction of overall\n",
    "traffic.\n",
    "\n",
    "2. The city administration is cracking down on helmet laws, and wants to\n",
    "deploy police officers on days with high traffic to hand out citations.\n",
    "Can they use the next day's weather forecast to predict the number of\n",
    "bicyclists that day? --> In other words, is weather (temperature and\n",
    "precipitation) related to number of bicyclists.\n",
    "\n",
    "3. Can I use this data to predict whether it is raining based on the number\n",
    "of bicyclists on the bridges? --> Similar to question 2 but not quite. This\n",
    "time we are going the other way. If we have number of bicyclist determine\n",
    "if we can infer the weather using that data.\n",
    "'''"
   ]
  },
  {
   "cell_type": "code",
   "execution_count": 3,
   "metadata": {},
   "outputs": [],
   "source": [
    "# File pre-process\n",
    "filename = \"bike_data.csv\"\n",
    "dataset = pandas.read_csv(filename, parse_dates=True)\n",
    "# dataset.head(1)\n",
    "# dataset.describe()"
   ]
  },
  {
   "cell_type": "code",
   "execution_count": 4,
   "metadata": {},
   "outputs": [],
   "source": [
    "rowSize = dataset.shape[0]\n",
    "\n",
    "for i in range(rowSize):\n",
    "    if dataset[\"Precipitation\"][i] == \"T\":\n",
    "        dataset.at[i, \"Precipitation\"] = \"0.00\"\n",
    "    else:\n",
    "        onlyNum = dataset[\"Precipitation\"][i].rstrip(\" (S)\")\n",
    "        dataset.at[i, \"Precipitation\"] = onlyNum\n",
    "\n",
    "# dataset.head(30)"
   ]
  },
  {
   "cell_type": "code",
   "execution_count": 5,
   "metadata": {},
   "outputs": [],
   "source": [
    "# change data values to integers and floats\n",
    "for i in range(5, 10):\n",
    "    for j in range(rowSize):\n",
    "        rmComma = dataset.iat[j, i].split(\",\")\n",
    "        toInt = \"\"\n",
    "        for part in rmComma:\n",
    "            toInt += part\n",
    "        dataset.iat[j, i] = int(toInt)\n",
    "        \n",
    "for i in range(2, 5):\n",
    "    for j in range(rowSize):\n",
    "        dataset.iat[j, i] = float(dataset.iat[j, i])\n",
    "        \n",
    "# dataset.head(30)"
   ]
  },
  {
   "cell_type": "code",
   "execution_count": 6,
   "metadata": {
    "collapsed": true
   },
   "outputs": [],
   "source": [
    "def threeBridgeModel(b1, b2, b3):\n",
    "    X = dataset[[f\"{b1} Bridge\", f\"{b2} Bridge\", f\"{b3} Bridge\"]].values\n",
    "    y = dataset[[\"Total\"]].values\n",
    "    \n",
    "    X_train, X_test, y_train, y_test = train_test_split(X, y, test_size=0.2, random_state=0)\n",
    "    \n",
    "    model = LinearRegression()\n",
    "    model.fit(X_train, y_train)\n",
    "    \n",
    "    y_pred = model.predict(X_test)\n",
    "    \n",
    "    PredictScore = model.score(X_test, y_test)\n",
    "\n",
    "    return model, PredictScore"
   ]
  },
  {
   "cell_type": "code",
   "execution_count": 7,
   "metadata": {},
   "outputs": [
    {
     "name": "stdout",
     "output_type": "stream",
     "text": [
      "Total Traffic = 1.1386000788715267*(Brooklyn Traffic) + 0.9471171505682368*(Manhattan Traffic) + 1.6086469611158551*(Williamsburg Traffic) + 382.7456681782314\n"
     ]
    }
   ],
   "source": [
    "# Question 1\n",
    "# Let's do a regression --> Each bridge traffic as feature and total traffic as y\n",
    "Scores = [0, 1, 2, 3]\n",
    "# Brooklyn, Manhattan, Williamsburg\n",
    "bmwModel, Scores[0] = threeBridgeModel(\"Brooklyn\", \"Manhattan\", \"Williamsburg\")\n",
    "\n",
    "# Brooklyn, Manhattan, Queensboro\n",
    "bmqModel, Scores[1] = threeBridgeModel(\"Brooklyn\", \"Manhattan\", \"Queensboro\")\n",
    "\n",
    "# Brooklyn, Williamsburg, Queensboro\n",
    "bwqModel, Scores[2] = threeBridgeModel(\"Brooklyn\", \"Williamsburg\", \"Queensboro\")\n",
    "\n",
    "# Manhattan, Williamsburg, Queensboro\n",
    "mwqModel, Scores[3] = threeBridgeModel(\"Manhattan\", \"Williamsburg\", \"Queensboro\")\n",
    "\n",
    "print(f\"Total Traffic = {bmwModel.coef_[0][0]}*(Brooklyn Traffic) + {bmwModel.coef_[0][1]}*(Manhattan Traffic) + {bmwModel.coef_[0][2]}*(Williamsburg Traffic) + {bmwModel.intercept_[0]}\")"
   ]
  },
  {
   "cell_type": "code",
   "execution_count": 8,
   "metadata": {},
   "outputs": [
    {
     "name": "stdout",
     "output_type": "stream",
     "text": [
      "Brooklyn, Manhattan, Williamsburg (Score without Queensboro): r-squared -  0.995728908804532 99.5728908804532 %\n",
      "Brooklyn, Manhattan, Queensboro (Score without Williamsburg): r-squared -  0.9881826020010465 98.81826020010465 %\n",
      "Brooklyn, Williamsburg, Queensboro (Score without Manhattan): r-squared -  0.9472389433167309 94.72389433167308 %\n",
      "Manhattan, Williamsburg, Queensboro (Score without Brooklyn): r-squared -  0.9821507190448353 98.21507190448354 %\n"
     ]
    }
   ],
   "source": [
    "# Question 1 Output\n",
    "print(\"Brooklyn, Manhattan, Williamsburg (Score without Queensboro):\", \"r-squared - \", Scores[0], 100 * Scores[0], \"%\")\n",
    "print(\"Brooklyn, Manhattan, Queensboro (Score without Williamsburg):\", \"r-squared - \", Scores[1], 100 * Scores[1], \"%\")\n",
    "print(\"Brooklyn, Williamsburg, Queensboro (Score without Manhattan):\", \"r-squared - \", Scores[2], 100 * Scores[2], \"%\")\n",
    "print(\"Manhattan, Williamsburg, Queensboro (Score without Brooklyn):\", \"r-squared - \", Scores[3], 100 * Scores[3], \"%\")"
   ]
  },
  {
   "cell_type": "code",
   "execution_count": 9,
   "metadata": {},
   "outputs": [
    {
     "name": "stdout",
     "output_type": "stream",
     "text": [
      "score:  0.4333519802026249\n",
      "Total Traffic = 406.17916154797587*(High Temp) + -170.7826243577951*(Low Temp) + -8034.912567405353*(Precipitation) + -422.8260224649057\n"
     ]
    }
   ],
   "source": [
    "# Multiple Variable Linear Regression\n",
    "# Weather Features: temperature, precipitation --> dependent y value: number of bicyclist\n",
    "X = dataset[[\"High Temp (°F)\", \"Low Temp (°F)\", \"Precipitation\"]].values\n",
    "y = dataset[[\"Total\"]].values\n",
    "\n",
    "X_train, X_test, y_train, y_test = train_test_split(X, y, test_size=0.19, random_state=0)\n",
    "\n",
    "regressor = LinearRegression()\n",
    "regressor.fit(X_train, y_train)\n",
    "\n",
    "# column names\n",
    "col = (dataset[[\"High Temp (°F)\", \"Low Temp (°F)\", \"Precipitation\"]]).columns\n",
    "# coefficients of features\n",
    "coeffs = pandas.DataFrame(regressor.coef_, [\"coefficients\"], columns=col)\n",
    "y_pred = regressor.predict(X_test)\n",
    "\n",
    "# print(y_test.transpose())\n",
    "# print(y_pred.transpose())\n",
    "print(\"score: \", regressor.score(X_test, y_test))\n",
    "print(f\"Total Traffic = {regressor.coef_[0][0]}*(High Temp) + {regressor.coef_[0][1]}*(Low Temp) + {regressor.coef_[0][2]}*(Precipitation) + {regressor.intercept_[0]}\")"
   ]
  },
  {
   "cell_type": "code",
   "execution_count": 10,
   "metadata": {},
   "outputs": [
    {
     "name": "stdout",
     "output_type": "stream",
     "text": [
      "score:  0.8372093023255814\n",
      "[1 0 0 0 1 1 1 0 0 1 0 0 0 0 1 0 1 1 0 0 0 0 0 0 0 1 0 0 0 0 0 0 0 1 0 1 0\n",
      " 0 0 1 0 0 0]\n",
      "[0 0 0 0 1 1 1 0 1 0 0 0 0 0 0 0 1 0 0 0 1 0 0 0 0 1 0 0 0 0 0 0 0 1 0 1 0\n",
      " 0 0 0 0 0 0]\n",
      "[[29  2]\n",
      " [ 5  7]]\n"
     ]
    }
   ],
   "source": [
    "# Classification using Naive Bayes --> is it raining or not?\n",
    "X = dataset[[\"Total\"]].values\n",
    "y = dataset[[\"Precipitation\"]].values\n",
    "y_data = [0 for _ in range(len(y))]\n",
    "\n",
    "for idx, data in enumerate(y):\n",
    "    if data > 0:\n",
    "        y_data[idx] = 1\n",
    "    else:\n",
    "        y_data[idx] = 0\n",
    "        \n",
    "y_data = np.array(y_data)\n",
    "        \n",
    "X_train, X_test, y_train, y_test = train_test_split(X, y_data, test_size=0.2, random_state=1)\n",
    "\n",
    "model = GaussianNB()\n",
    "model.fit(X_train, y_train)\n",
    "\n",
    "y_pred = model.predict(X_test)\n",
    "\n",
    "print(\"score: \", model.score(X_test, y_test))\n",
    "print(y_test)\n",
    "print(y_pred)\n",
    "cm = confusion_matrix(y_test, y_pred)\n",
    "print(cm)"
   ]
  },
  {
   "cell_type": "code",
   "execution_count": 11,
   "metadata": {},
   "outputs": [
    {
     "name": "stdout",
     "output_type": "stream",
     "text": [
      "score:  0.7407407407407407\n",
      "[ True False False False  True  True  True False False  True False False\n",
      " False False  True False  True  True False False False False False False\n",
      " False  True False False False False False False False  True False  True\n",
      " False False False  True False False False False False False False False\n",
      " False False False False  True  True]\n",
      "[False False False False False False False False False False False False\n",
      " False False False False False False False False False False False False\n",
      " False False False False False False False False False False False False\n",
      " False False False False False False False False False False False False\n",
      " False False False False False False]\n",
      "[40  0 14  0]\n"
     ]
    }
   ],
   "source": [
    "# Logistic Regerssion on Problem 3 was not quite successful\n",
    "# TODO: Need some tweaking as well\n",
    "X = dataset[[\"Total\"]].values\n",
    "y = dataset[\"Precipitation\"].values\n",
    "'''\n",
    "ones = 0\n",
    "zeros = 0\n",
    "x_data = []\n",
    "y_data = []\n",
    "\n",
    "for idx, value in enumerate(y):\n",
    "    if value > 0:\n",
    "        y_data.append(1)\n",
    "        x_data.append(list(X[idx]))\n",
    "        ones += 1\n",
    "    else:\n",
    "        if zeros >= 68:\n",
    "            continue\n",
    "        y_data.append(0)\n",
    "        x_data.append(list(X[idx]))\n",
    "        zeros += 1\n",
    "\n",
    "for idx, value in enumerate(y):\n",
    "    if value > 0:\n",
    "        y_data.append(1)\n",
    "        x_data.append(list(X[idx]))\n",
    "        ones += 1\n",
    "    else:\n",
    "        if zeros >= 68:\n",
    "            continue\n",
    "        y_data.append(0)\n",
    "        x_data.append(list(X[idx]))\n",
    "        zeros += 1\n",
    "'''\n",
    "        \n",
    "# print(zeros, \" \", ones)\n",
    "# print(x_data)\n",
    "# print(y_data)\n",
    "\n",
    "# x_data = np.asarray(x_data)\n",
    "# y_data = np.asarray(y_data)\n",
    "\n",
    "y = y.astype(\"bool\")\n",
    "#print(y)\n",
    "\n",
    "X_train, X_test, y_train, y_test = train_test_split(X, y, test_size=0.25, random_state=1)\n",
    "\n",
    "model = LogisticRegression(solver=\"liblinear\", tol=0.7)\n",
    "model.fit(X_train, y_train)\n",
    "y_pred = model.predict(X_test)\n",
    "print(\"score: \", model.score(X_test, y_test))\n",
    "print(y_test)\n",
    "print(y_pred)\n",
    "#tn, fp, fn, tp \n",
    "result = confusion_matrix(y_test, y_pred).ravel()\n",
    "print(result)"
   ]
  },
  {
   "cell_type": "code",
   "execution_count": 12,
   "metadata": {},
   "outputs": [
    {
     "name": "stderr",
     "output_type": "stream",
     "text": [
      "/opt/anaconda3/lib/python3.6/site-packages/seaborn/distributions.py:215: MatplotlibDeprecationWarning: \n",
      "The 'normed' kwarg was deprecated in Matplotlib 2.1 and will be removed in 3.1. Use 'density' instead.\n",
      "  color=hist_color, **hist_kws)\n"
     ]
    },
    {
     "data": {
      "image/png": "[encoded data removed]",
      "text/plain": [
       "<Figure size 576x396 with 1 Axes>"
      ]
     },
     "metadata": {},
     "output_type": "display_data"
    }
   ],
   "source": [
    "# Distribtuion Plot for Problem 1\n",
    "plt.clf()\n",
    "\n",
    "avgList = [0 for _ in range(rowSize)]\n",
    "\n",
    "for i in range(rowSize):\n",
    "    avgList[i] = (dataset[\"Total\"][i]) / 4\n",
    "\n",
    "seaborn.distplot(dataset[\"Brooklyn Bridge\"], label=\"Brooklyn\")\n",
    "seaborn.distplot(dataset[\"Manhattan Bridge\"], label=\"Manhattan\")\n",
    "seaborn.distplot(dataset[\"Williamsburg Bridge\"], label=\"Williamsburg\")\n",
    "seaborn.distplot(dataset[\"Queensboro Bridge\"], label=\"Queensboro\")\n",
    "seaborn.distplot(avgList, label=\"Total\")\n",
    "plt.legend()\n",
    "plt.show()"
   ]
  },
  {
   "cell_type": "code",
   "execution_count": null,
   "metadata": {
    "collapsed": true
   },
   "outputs": [],
   "source": []
  }
 ],
 "metadata": {
  "kernelspec": {
   "display_name": "Python [default]",
   "language": "python",
   "name": "python3"
  },
  "language_info": {
   "codemirror_mode": {
    "name": "ipython",
    "version": 3
   },
   "file_extension": ".py",
   "mimetype": "text/x-python",
   "name": "python",
   "nbconvert_exporter": "python",
   "pygments_lexer": "ipython3",
   "version": "3.6.4"
  }
 },
 "nbformat": 4,
 "nbformat_minor": 2
}
